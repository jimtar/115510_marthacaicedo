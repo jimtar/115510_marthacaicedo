{
 "cells": [
  {
   "cell_type": "code",
   "execution_count": null,
   "metadata": {},
   "outputs": [],
   "source": [
    "# ejercicio 5"
   ]
  },
  {
   "cell_type": "code",
   "execution_count": 3,
   "metadata": {},
   "outputs": [
    {
     "name": "stdout",
     "output_type": "stream",
     "text": [
      "Ingrese un número entero:4555689345\n",
      "En el número ingresado 4555689345 hay 3 cincos consecutivos\n"
     ]
    }
   ],
   "source": [
    "#Leer un número entero y determinar el número de cincos que están consecutivos\n",
    "# en un número\n",
    " \n",
    "#Creación de función con respecto cuantas veces digito esta repetido en número\n",
    "def numero_rep_consecutivas(numero,digito):\n",
    "    contador= 0 #varible que tendra el número de veces que estará digito en\n",
    "                #número\n",
    "    if numero < 10: # si el numero es de un digito no se repite\n",
    "        return contador\n",
    "    else:\n",
    "        digito_anterior=numero % 10 # Digito anterior\n",
    "        numero //= 10  # remoción del ultimo digito y este nuevo número sera \n",
    "                       #guardado en numero\n",
    "        cinco=1 #Variable que representará si hay una serie del número\n",
    "        \n",
    "        while True:\n",
    "            numero1= numero % 10\n",
    "            # Se toma el ultimo digito del número \n",
    "            if (numero1==digito==digito_anterior) and\\\n",
    "            cinco:     # La cifra digito está consecutiva en el número numero\n",
    "                contador+=2\n",
    "                cinco=0\n",
    "            elif (numero1==digito==digito_anterior) and\\\n",
    "            not cinco:\n",
    "                contador += 1\n",
    "            else:\n",
    "                cinco=1\n",
    "        \n",
    "            if numero<10 : # condicion si el número ingresado \n",
    "                          #es de solo un digito rompe el ciclo\n",
    "                return contador\n",
    "            digito_anterior= numero1\n",
    "            numero //=10 \n",
    "            \n",
    "numero=int(input('Ingrese un número entero:' ))\n",
    "el_5_esta=numero_rep_consecutivas(numero,5) #Determinación de la cantidad de 5 \n",
    "                                            #que hay en el número ingresado\n",
    "print(f'En el número ingresado {numero} hay {el_5_esta} cincos consecutivos') \n",
    "\n"
   ]
  },
  {
   "cell_type": "code",
   "execution_count": null,
   "metadata": {},
   "outputs": [],
   "source": [
    "# ejercicio 7"
   ]
  },
  {
   "cell_type": "code",
   "execution_count": 5,
   "metadata": {},
   "outputs": [
    {
     "name": "stdout",
     "output_type": "stream",
     "text": [
      "Por favor ingrese un número entero positivo:1122223344444\n",
      "El digito 1 del número 1122223344444 se repite 2\n",
      "El digito 2 del número 1122223344444 se repite 4\n",
      "El digito 3 del número 1122223344444 se repite 2\n",
      "El digito 4 del número 1122223344444 se repite 5\n"
     ]
    }
   ],
   "source": [
    "#Leer un número entero positivo y determine si existen en el número dígitos \n",
    "#repetidos.reporte cuales son los dígitos repetidos.               \n",
    "\n",
    "#Se generan las funciones para usarlas mas adelante\n",
    "#Función para determinar cuantos digitos tiene el número ingresado \n",
    "def digitos_del_numero(numero):    # Función digitos con respecto al número\n",
    "    contador= 1\n",
    "    while True: \n",
    "        if numero<10: #si el número digitado es menor que 10 se rompe el ciclo\n",
    "            return contador \n",
    "        contador += 1\n",
    "        numero // 10\n",
    "#Función para saber cuantos veces esta repetido dicho número \n",
    "def repeticion_digito_en_numero(numero1,digito):\n",
    "    contador=-1\n",
    "    while True:\n",
    "        digito1= numero1 % 10\n",
    "        if digito1==digito:\n",
    "            contador += 1\n",
    "        if numero1<10:\n",
    "            return contador \n",
    "        numero1 //=10 \n",
    "#usando las funciones tenemos\n",
    "numero=int(input('Por favor ingrese un número entero positivo:' )) #variable \n",
    "no_hay_repeticiones=1 #Variable usada por si no hay repeticiones\n",
    " \n",
    "for i in range(0,10):#verificar si los números de 0,9 se repiten \n",
    "    numero_repetido=repeticion_digito_en_numero(numero,i) # Cantidad de veces \n",
    "                                        #que se repite un digito en el número \n",
    "    \n",
    "    if numero_repetido>0:\n",
    "        print(f'El digito {i} del número {numero} se repite {1+numero_repetido}') \n",
    "        # Se prensenta que numero es el repetido en el ingresado\n",
    "        no_hay_repeticiones=0\n",
    "    elif no_hay_repeticiones and (i==9):  # no se repiten ningun número \n",
    "        print(f'Ningun digito del número {numero} se repite')"
   ]
  },
  {
   "cell_type": "code",
   "execution_count": null,
   "metadata": {},
   "outputs": [],
   "source": [
    "#ejercicio 14"
   ]
  },
  {
   "cell_type": "code",
   "execution_count": 1,
   "metadata": {},
   "outputs": [
    {
     "name": "stdout",
     "output_type": "stream",
     "text": [
      "ingrese una cadena de texto: todo parece imposible hasta que se hace\n",
      "aaaabccdeeeeeehhiilmoooppqrsssttu"
     ]
    }
   ],
   "source": [
    "#leer una cadena de texto y organice alfabeticamente cada una de las letras\n",
    "#que la componen, repitiendo cada una tantas veces como se encuentra\n",
    "\n",
    "cadena=input('ingrese una cadena de texto: ') #variable cadena\n",
    "cadena_lista=list(cadena) #transformar la cadena por una lista\n",
    "\n",
    "for i in range(len(cadena_lista)):# ciclo aplicado en toda la longitud de la \n",
    "                                  #cadena\n",
    "    if ' ' in cadena_lista:\n",
    "        cadena_lista.remove(' ') #remover los posibles espacion en el texto\n",
    "    cadena_lista.sort()            #ordenar alfabeticamente\n",
    "for a in range(len(cadena_lista)):  # cadena sin espacios\n",
    "    print(cadena_lista[a],end='')"
   ]
  },
  {
   "cell_type": "code",
   "execution_count": 2,
   "metadata": {},
   "outputs": [],
   "source": [
    "#ejercicio 19"
   ]
  },
  {
   "cell_type": "code",
   "execution_count": 2,
   "metadata": {},
   "outputs": [
    {
     "name": "stdout",
     "output_type": "stream",
     "text": [
      "ingrese la cantidad de numeros de la lista: 10\n",
      "Escriba el numero 1 de la     lista ordenada: 1\n",
      "Escriba el numero 2 de la     lista ordenada: 3\n",
      "Escriba el numero 3 de la     lista ordenada: 5\n",
      "Escriba el numero 4 de la     lista ordenada: 7\n",
      "Escriba el numero 5 de la     lista ordenada: 6\n",
      "Escriba el numero 6 de la     lista ordenada: 5\n",
      "Escriba el numero 7 de la     lista ordenada: 4\n",
      "Escriba el numero 8 de la     lista ordenada: 8\n",
      "Escriba el numero 9 de la     lista ordenada: 9\n",
      "Escriba el numero 10 de la     lista ordenada: 3\n",
      "La lista es:  [1.0, 3.0, 5.0, 7.0, 6.0, 5.0, 4.0, 8.0, 9.0, 3.0]\n",
      "La sublista mas larga contiene 4 numeros y  esta dada por : [1.0, 3.0, 5.0, 7.0]\n"
     ]
    }
   ],
   "source": [
    "# Leer una lista e identifique la sublista más larga dentro de dicha \n",
    "#lista que se encuentra ordenada ascendentemente. \n",
    "\n",
    "lista=[] #Lista vacia para recolectar los datos ingresados por el usuario\n",
    "añadir=[] #Lista vacia para almacenar los datos a añadir a la lista original\n",
    "cantidad=int(input('ingrese la cantidad de numeros de la lista: '))#Cantidad de \n",
    "                                                           #datos a recolectar\n",
    "for i in range(cantidad):  #ciclo para recoleccion de datos\n",
    "    lista.append(float(input(f'Escriba el numero {i+1} de la \\\n",
    "    lista ordenada: ')))   #almacenamiento de datos lista orignial\n",
    "contador=1 #contador de sublistas\n",
    "pos=[]\n",
    "#Analisis cadena\n",
    "for i in range(len(lista)-1):\n",
    "    if lista[i+1]<lista[i]: #encuentra una sublista\n",
    "        contador=contador+1\n",
    "        pos.append(i+1) #Se toma la posicion donde se rompe el orden ascendente\n",
    "pos.append(cantidad) #Se inserta el valor de datos ingresados\n",
    "pos.insert(0,0) #Se agrega el 0 a la lista para hacer diferencias entre cada paso\n",
    "diferencia=[] #vector para almacenar las diferencias\n",
    "for i in range(len(pos)-1): #Ciclo para recorrer el vector diferencias\n",
    "    diferencia.append(pos[i+1]-pos[i]) #resta de la posicion siguiente menos la actual\n",
    "\n",
    "#busqueda del mayor numero contenido en el vector diferencia\n",
    "\n",
    "parar=diferencia[0] #se toma el primer elemento de la lista como pibote y se \n",
    "               #genera la condicion parar\n",
    "pibote=[] #almacenamiento de los pibotes encontrados (numeros mayores \n",
    "          #hasta el momento)\n",
    "for i in range(len(diferencia)):#Ciclo para recorrer la lista de \"diferecias\"\n",
    "    if diferencia[i]>parar:     #compara el pibote con el numero i de la lista\n",
    "        parar=diferencia[i]     # si el valor de la lista es mayor al pibote actual\n",
    "                           #lo sustituye hasta acabar de recorrer toda la lista\n",
    "        pibote.append(parar) #Se almacena el pibote actual\n",
    "        \n",
    "posmayor=diferencia.index(parar) #identifica la posicion de la cantidad que dio \n",
    "                                 #la mayor diferencia en el vector\n",
    "#La coordenada 0 de el vector diferencias estara relacionado a la porcion de lista\n",
    "#que va desde 0 hasta pos[1]. El segundo valor \"diferencia[1]\" estara asociado \n",
    "#a la porcion de lista que va desde pos[1] a pos[2]\n",
    "inicio=pos[posmayor]\n",
    "fin=pos[posmayor+1]                                \n",
    "listaimprimir=lista[inicio:fin]\n",
    "print('La lista es: ',lista)\n",
    "print(f'La sublista mas larga contiene {parar} numeros y  esta dada por \\\n",
    ": {listaimprimir}')"
   ]
  },
  {
   "cell_type": "code",
   "execution_count": 6,
   "metadata": {},
   "outputs": [],
   "source": [
    "#ejercicio 20"
   ]
  },
  {
   "cell_type": "code",
   "execution_count": 1,
   "metadata": {},
   "outputs": [
    {
     "name": "stdout",
     "output_type": "stream",
     "text": [
      "ingrese el numeor de filas: 4\n",
      "ingrese el numeor de columnas: 5\n",
      "ingrese el elmento 1,1 de la matriz: 62\n",
      "ingrese el elmento 1,2 de la matriz: 42\n",
      "ingrese el elmento 1,3 de la matriz: 70\n",
      "ingrese el elmento 1,4 de la matriz: 66\n",
      "ingrese el elmento 1,5 de la matriz: 10\n",
      "ingrese el elmento 2,1 de la matriz: 35\n",
      "ingrese el elmento 2,2 de la matriz: 10\n",
      "ingrese el elmento 2,3 de la matriz: 4\n",
      "ingrese el elmento 2,4 de la matriz: 92\n",
      "ingrese el elmento 2,5 de la matriz: 94\n",
      "ingrese el elmento 3,1 de la matriz: 33\n",
      "ingrese el elmento 3,2 de la matriz: 37\n",
      "ingrese el elmento 3,3 de la matriz: 5\n",
      "ingrese el elmento 3,4 de la matriz: 100\n",
      "ingrese el elmento 3,5 de la matriz: 19\n",
      "ingrese el elmento 4,1 de la matriz: 79\n",
      "ingrese el elmento 4,2 de la matriz: 44\n",
      "ingrese el elmento 4,3 de la matriz: 72\n",
      "ingrese el elmento 4,4 de la matriz: 55\n",
      "ingrese el elmento 4,5 de la matriz: 91\n",
      "La matriz original es  [[62, 42, 70, 66, 10], [35, 10, 4, 92, 94], [33, 37, 5, 100, 19], [79, 44, 72, 55, 91]]\n",
      "La matriz rotada en sentido antihorario es:  [[10, 94, 19, 91], [66, 92, 100, 55], [70, 4, 5, 72], [42, 10, 37, 44], [62, 35, 33, 79]]\n",
      "La matriz rotada por libreria es: \n",
      " [[ 10  94  19  91]\n",
      " [ 66  92 100  55]\n",
      " [ 70   4   5  72]\n",
      " [ 42  10  37  44]\n",
      " [ 62  35  33  79]]\n"
     ]
    }
   ],
   "source": [
    "# Hacer un programa que lea una matriz y la rote 90 grados en sentido \n",
    "#antihorario. Imprimir la matriz resultante. Por ejemplo, dada la matriz\n",
    "matriz=[] #crea la variable matriz\n",
    "matrizrot=[]\n",
    "filas=int(input('ingrese el numero de filas: '))\n",
    "columnas=int(input('ingrese el numero de columnas: '))\n",
    "for i in range(filas):\n",
    "    matriz.append([0]*columnas) #genera una matriz de 0 con dimnesiones ingresadas\n",
    "for i in range(columnas):\n",
    "    matrizrot.append([0]*filas) #genera una matriz de 0 con dimnesiones de matriz rotada\n",
    "#recoleccion de datos(Ciclo para llenar la matriz por filas) \n",
    "for i in range(filas):#recorrido por filas\n",
    "    for j in range(columnas): #recorrido por columnas\n",
    "        matriz[i][j]=int(input(f'ingrese el elmento {i+1},{j+1} de\\\n",
    " la matriz: '))\n",
    "print('La matriz original es ', matriz)\n",
    "\n",
    "aux=columnas-1 #Auxiliar para rotar la matriz\n",
    "for i in range(columnas): #recorrido por filas\n",
    "    for j in range(filas): #recorrido por columnas\n",
    "                                       #matriz de ceros\n",
    "        matrizrot[i][j]=matriz[j][aux] #Sustitucion de las posiciones de la matriz de ceros\n",
    "    aux=aux-1 #Se resta 1 al auxiliar para pasar a reemplazar \n",
    "              #en la siguiente fila\n",
    "print('La matriz rotada en sentido antihorario es: ',matrizrot)\n",
    "        \n",
    "#Ahora con modulo numpy\n",
    "\n",
    "import numpy #importacion libreria numpy\n",
    "m = numpy.array(matriz, int) #arreglo de la matriz\n",
    "print(\"La matriz rotada por libreria es: \\n\",numpy.rot90(m)) #rot90 rota la matriz\n"
   ]
  },
  {
   "cell_type": "code",
   "execution_count": null,
   "metadata": {},
   "outputs": [],
   "source": []
  }
 ],
 "metadata": {
  "kernelspec": {
   "display_name": "Python 3",
   "language": "python",
   "name": "python3"
  },
  "language_info": {
   "codemirror_mode": {
    "name": "ipython",
    "version": 3
   },
   "file_extension": ".py",
   "mimetype": "text/x-python",
   "name": "python",
   "nbconvert_exporter": "python",
   "pygments_lexer": "ipython3",
   "version": "3.7.3"
  }
 },
 "nbformat": 4,
 "nbformat_minor": 2
}
